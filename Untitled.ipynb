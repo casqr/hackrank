{
 "cells": [
  {
   "cell_type": "code",
   "execution_count": 44,
   "metadata": {},
   "outputs": [
    {
     "data": {
      "text/plain": [
       "''"
      ]
     },
     "execution_count": 44,
     "metadata": {},
     "output_type": "execute_result"
    }
   ],
   "source": [
    "0*'H'"
   ]
  },
  {
   "cell_type": "code",
   "execution_count": 4,
   "metadata": {},
   "outputs": [
    {
     "name": "stdout",
     "output_type": "stream",
     "text": [
      "4\n",
      "   \n",
      "H  \n",
      "HH \n",
      "HHH\n",
      "  HHHH            HHHH          \n",
      "  HHHH            HHHH          \n",
      "  HHHH            HHHH          \n",
      "  HHHH            HHHH          \n",
      "  HHHHHHHHHHHHHHHHHHHH  \n",
      "  HHHHHHHHHHHHHHHHHHHH  \n",
      "  HHHH            HHHH          \n",
      "  HHHH            HHHH          \n",
      "  HHHH            HHHH          \n",
      "  HHHH            HHHH          \n",
      "  HHHH            HHHH          \n",
      "                HHHHHHH \n",
      "                 HHHHH  \n",
      "                  HHH   \n",
      "                   H    \n"
     ]
    }
   ],
   "source": [
    "thickness = int(input()) #This must be an odd number\n",
    "c = 'H'\n",
    "#Top Cone\n",
    "for i in range(thickness):\n",
    "    print((c*i).ljust(thickness-1))\n",
    "\n",
    "#Top Pillars\n",
    "for i in range(thickness):\n",
    "    print((c*thickness).center(thickness*2)+(c*thickness).center(thickness*6))\n",
    "#Middle Belt\n",
    "for i in range((thickness+1)//2):\n",
    "    print((c*thickness*5).center(thickness*6))    \n",
    "#Bottom Pillars\n",
    "for i in range(thickness+1):\n",
    "    print((c*thickness).center(thickness*2)+(c*thickness).center(thickness*6))    \n",
    "#Bottom Cone\n",
    "for i in range(thickness):\n",
    "    print(((c*(thickness-i-1)).rjust(thickness)+c+(c*(thickness-i-1)).ljust(thickness)).rjust(thickness*6))"
   ]
  },
  {
   "cell_type": "code",
   "execution_count": null,
   "metadata": {},
   "outputs": [],
   "source": [
    "# Enter your code here. Read input from STDIN. Print output to STDOUT\n",
    "line  = '.|.'\n",
    "N, M = map(int,input("my name").split())\n",
    "#M = 3*N\n",
    "W = 'WELCOME'\n",
    "\n",
    "for i in range(N//2):\n",
    "    print((i*line).rjust(M+1, '-')+line+(i*line).ljust(M+1, '-'))  \n",
    "\n",
    "print(W.center(M*3,'-'))\n",
    "\n",
    "for i in range(N//2,-1,-1):\n",
    "    print((i*line).rjust(M+1, '-')+line+(i*line).ljust(M+1, '-'))"
   ]
  },
  {
   "cell_type": "code",
   "execution_count": 6,
   "metadata": {},
   "outputs": [
    {
     "name": "stdout",
     "output_type": "stream",
     "text": [
      "3 9\n",
      "---.|.---\n",
      "-WELCOME-\n",
      "---.|.---\n"
     ]
    }
   ],
   "source": [
    "N, M = map(int,input().split())\n",
    "for i in range(1,N,2): \n",
    "    print((i * \".|.\").center(M, \"-\"))\n",
    "print(\"WELCOME\".center(M,\"-\"))\n",
    "for i in range(N-2,-1,-2): \n",
    "    print((i * \".|.\").center(M, \"-\"))\n"
   ]
  },
  {
   "cell_type": "code",
   "execution_count": 56,
   "metadata": {},
   "outputs": [
    {
     "name": "stdout",
     "output_type": "stream",
     "text": [
      "3 4\n",
      "3\n"
     ]
    }
   ],
   "source": [
    "th = list(map(int,(input().split())))#This must be an odd number\n",
    "\n",
    "print(th[0])"
   ]
  },
  {
   "cell_type": "code",
   "execution_count": 16,
   "metadata": {},
   "outputs": [
    {
     "name": "stdout",
     "output_type": "stream",
     "text": [
      "5\n",
      "---------HELLO----------\n"
     ]
    }
   ],
   "source": [
    "c= \"HELLO\"\n",
    "print(len(c))\n",
    "print(c.center(24,'-'))"
   ]
  },
  {
   "cell_type": "code",
   "execution_count": 20,
   "metadata": {},
   "outputs": [
    {
     "name": "stdout",
     "output_type": "stream",
     "text": [
      "2\n",
      "1 2\n",
      "-3550055125485641917\n"
     ]
    }
   ],
   "source": [
    "n = int(input())\n",
    "int_list = map(int, input().split())\n",
    "t = tuple(int_list)\n",
    "print(hash(t))"
   ]
  },
  {
   "cell_type": "code",
   "execution_count": 13,
   "metadata": {},
   "outputs": [
    {
     "name": "stdout",
     "output_type": "stream",
     "text": [
      "5\n",
      "append 8\n",
      "append 5\n",
      "insert 0 3\n",
      "insert 3 7\n",
      "print\n",
      "[3, 8, 5, 7]\n"
     ]
    }
   ],
   "source": [
    "arr = []\n",
    "commands = ['append','print','insert','remove','pop','sort','reverse']\n",
    "N = int(input())\n",
    "for i in range(N):\n",
    "    s = input().split()\n",
    "    \n",
    "    if s[0] == commands[0]:\n",
    "        arr.append(int(s[1]))\n",
    "        \n",
    "    elif s[0] == commands[1]:\n",
    "        print(arr)\n",
    "        \n",
    "    elif s[0] == commands[2]:\n",
    "        arr.insert(int(s[1]), int(s[2]))\n",
    "        \n",
    "    elif s[0] == commands[3]:\n",
    "        if len(arr) > 2:\n",
    "            arr.remove(int(s[1]))\n",
    "        else:\n",
    "            continue\n",
    "                   \n",
    "    elif s[0] == commands[4]:\n",
    "        if len(arr) > 2:\n",
    "            arr.pop()\n",
    "        else:\n",
    "            continue\n",
    "        \n",
    "        \n",
    "    elif s[0] == commands[5]:\n",
    "        arr.sort()\n",
    "        \n",
    "    elif s[0] == commands[6]:\n",
    "        arr.reverse()\n",
    "    "
   ]
  }
 ],
 "metadata": {
  "kernelspec": {
   "display_name": "Python 3",
   "language": "python",
   "name": "python3"
  },
  "language_info": {
   "codemirror_mode": {
    "name": "ipython",
    "version": 3
   },
   "file_extension": ".py",
   "mimetype": "text/x-python",
   "name": "python",
   "nbconvert_exporter": "python",
   "pygments_lexer": "ipython3",
   "version": "3.8.5"
  }
 },
 "nbformat": 4,
 "nbformat_minor": 4
}
